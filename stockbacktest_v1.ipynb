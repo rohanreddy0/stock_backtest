{
 "cells": [
  {
   "cell_type": "code",
   "execution_count": 1,
   "id": "381422ed",
   "metadata": {},
   "outputs": [],
   "source": [
    "import yfinance as yf\n",
    "import pandas as pd\n",
    "import numpy as np\n",
    "from matplotlib import pyplot as plt"
   ]
  },
  {
   "cell_type": "code",
   "execution_count": null,
   "id": "c8537a0f",
   "metadata": {},
   "outputs": [
    {
     "name": "stdout",
     "output_type": "stream",
     "text": [
      "Simulation can begin from: 2021-01-21 00:00:00+00:00\n"
     ]
    }
   ],
   "source": [
    "# Define stocks and download data to csv\n",
    "ticker_list = [\"VUAG.L\", \"XNAQ.L\", \"VWRP.L\", \"VHVG.L\", \"VFEG.L\"]\n",
    "\n",
    "# save data as dataframes in dictionary\n",
    "d = {}\n",
    "for ticker in ticker_list:\n",
    "    d[ticker] = yf.Ticker(ticker).history(period=\"max\")\n",
    "\n",
    "datelist = {}\n",
    "for ticker in d:\n",
    "    datelist[ticker] = min(d[ticker].index)\n",
    "\n",
    "# Earliest date from which all ticker items can be tested\n",
    "earliest_date = min(d[max(datelist)].index)\n",
    "print(f\"Simulation can begin from: {earliest_date}\")\n",
    "\n",
    "# Trim dataframes to simulate-able timeframes\n",
    "for ticker in d:\n",
    "    d[ticker] = d[ticker][d[ticker].index >= earliest_date]"
   ]
  },
  {
   "cell_type": "code",
   "execution_count": null,
   "id": "4ed71965",
   "metadata": {},
   "outputs": [],
   "source": []
  },
  {
   "cell_type": "code",
   "execution_count": null,
   "id": "7b96963d",
   "metadata": {},
   "outputs": [],
   "source": []
  },
  {
   "cell_type": "code",
   "execution_count": null,
   "id": "d9ccd7f5",
   "metadata": {},
   "outputs": [],
   "source": []
  }
 ],
 "metadata": {
  "kernelspec": {
   "display_name": "base",
   "language": "python",
   "name": "python3"
  },
  "language_info": {
   "codemirror_mode": {
    "name": "ipython",
    "version": 3
   },
   "file_extension": ".py",
   "mimetype": "text/x-python",
   "name": "python",
   "nbconvert_exporter": "python",
   "pygments_lexer": "ipython3",
   "version": "3.13.5"
  }
 },
 "nbformat": 4,
 "nbformat_minor": 5
}
